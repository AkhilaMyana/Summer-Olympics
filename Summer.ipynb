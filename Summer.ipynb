{
 "cells": [
  {
   "cell_type": "markdown",
   "id": "e1c9619c",
   "metadata": {},
   "source": [
    "## 1.In how many cities Summer Olympics is held so far?"
   ]
  },
  {
   "cell_type": "code",
   "execution_count": 1,
   "id": "1b6a3a1d",
   "metadata": {},
   "outputs": [],
   "source": [
    "import pandas as pd"
   ]
  },
  {
   "cell_type": "code",
   "execution_count": 2,
   "id": "26fb2757",
   "metadata": {},
   "outputs": [],
   "source": [
    "df = pd.read_csv(\"summer.csv\")"
   ]
  },
  {
   "cell_type": "code",
   "execution_count": 3,
   "id": "ab9826fd",
   "metadata": {},
   "outputs": [],
   "source": [
    "city=[]\n",
    "for i in df['City'].unique():\n",
    "  city.append([i,len(df[df['City']  == i])])\n",
    "\n",
    "Total_Cities = len(city)\n",
    "city = pd.DataFrame(city,columns = ['City','Count'])"
   ]
  },
  {
   "cell_type": "code",
   "execution_count": 4,
   "id": "bd747396",
   "metadata": {},
   "outputs": [
    {
     "data": {
      "text/html": [
       "<div>\n",
       "<style scoped>\n",
       "    .dataframe tbody tr th:only-of-type {\n",
       "        vertical-align: middle;\n",
       "    }\n",
       "\n",
       "    .dataframe tbody tr th {\n",
       "        vertical-align: top;\n",
       "    }\n",
       "\n",
       "    .dataframe thead th {\n",
       "        text-align: right;\n",
       "    }\n",
       "</style>\n",
       "<table border=\"1\" class=\"dataframe\">\n",
       "  <thead>\n",
       "    <tr style=\"text-align: right;\">\n",
       "      <th></th>\n",
       "      <th>City</th>\n",
       "      <th>Count</th>\n",
       "    </tr>\n",
       "  </thead>\n",
       "  <tbody>\n",
       "    <tr>\n",
       "      <th>0</th>\n",
       "      <td>Athens</td>\n",
       "      <td>2149</td>\n",
       "    </tr>\n",
       "    <tr>\n",
       "      <th>1</th>\n",
       "      <td>Paris</td>\n",
       "      <td>1396</td>\n",
       "    </tr>\n",
       "    <tr>\n",
       "      <th>2</th>\n",
       "      <td>St Louis</td>\n",
       "      <td>470</td>\n",
       "    </tr>\n",
       "    <tr>\n",
       "      <th>3</th>\n",
       "      <td>London</td>\n",
       "      <td>3567</td>\n",
       "    </tr>\n",
       "    <tr>\n",
       "      <th>4</th>\n",
       "      <td>Stockholm</td>\n",
       "      <td>885</td>\n",
       "    </tr>\n",
       "    <tr>\n",
       "      <th>5</th>\n",
       "      <td>Antwerp</td>\n",
       "      <td>1298</td>\n",
       "    </tr>\n",
       "    <tr>\n",
       "      <th>6</th>\n",
       "      <td>Amsterdam</td>\n",
       "      <td>710</td>\n",
       "    </tr>\n",
       "    <tr>\n",
       "      <th>7</th>\n",
       "      <td>Los Angeles</td>\n",
       "      <td>2074</td>\n",
       "    </tr>\n",
       "    <tr>\n",
       "      <th>8</th>\n",
       "      <td>Berlin</td>\n",
       "      <td>875</td>\n",
       "    </tr>\n",
       "    <tr>\n",
       "      <th>9</th>\n",
       "      <td>Helsinki</td>\n",
       "      <td>889</td>\n",
       "    </tr>\n",
       "    <tr>\n",
       "      <th>10</th>\n",
       "      <td>Melbourne / Stockholm</td>\n",
       "      <td>885</td>\n",
       "    </tr>\n",
       "    <tr>\n",
       "      <th>11</th>\n",
       "      <td>Rome</td>\n",
       "      <td>882</td>\n",
       "    </tr>\n",
       "    <tr>\n",
       "      <th>12</th>\n",
       "      <td>Tokyo</td>\n",
       "      <td>1010</td>\n",
       "    </tr>\n",
       "    <tr>\n",
       "      <th>13</th>\n",
       "      <td>Mexico</td>\n",
       "      <td>1031</td>\n",
       "    </tr>\n",
       "    <tr>\n",
       "      <th>14</th>\n",
       "      <td>Munich</td>\n",
       "      <td>1185</td>\n",
       "    </tr>\n",
       "    <tr>\n",
       "      <th>15</th>\n",
       "      <td>Montreal</td>\n",
       "      <td>1305</td>\n",
       "    </tr>\n",
       "    <tr>\n",
       "      <th>16</th>\n",
       "      <td>Moscow</td>\n",
       "      <td>1387</td>\n",
       "    </tr>\n",
       "    <tr>\n",
       "      <th>17</th>\n",
       "      <td>Seoul</td>\n",
       "      <td>1546</td>\n",
       "    </tr>\n",
       "    <tr>\n",
       "      <th>18</th>\n",
       "      <td>Barcelona</td>\n",
       "      <td>1705</td>\n",
       "    </tr>\n",
       "    <tr>\n",
       "      <th>19</th>\n",
       "      <td>Atlanta</td>\n",
       "      <td>1859</td>\n",
       "    </tr>\n",
       "    <tr>\n",
       "      <th>20</th>\n",
       "      <td>Sydney</td>\n",
       "      <td>2015</td>\n",
       "    </tr>\n",
       "    <tr>\n",
       "      <th>21</th>\n",
       "      <td>Beijing</td>\n",
       "      <td>2042</td>\n",
       "    </tr>\n",
       "  </tbody>\n",
       "</table>\n",
       "</div>"
      ],
      "text/plain": [
       "                     City  Count\n",
       "0                  Athens   2149\n",
       "1                   Paris   1396\n",
       "2                St Louis    470\n",
       "3                  London   3567\n",
       "4               Stockholm    885\n",
       "5                 Antwerp   1298\n",
       "6               Amsterdam    710\n",
       "7             Los Angeles   2074\n",
       "8                  Berlin    875\n",
       "9                Helsinki    889\n",
       "10  Melbourne / Stockholm    885\n",
       "11                   Rome    882\n",
       "12                  Tokyo   1010\n",
       "13                 Mexico   1031\n",
       "14                 Munich   1185\n",
       "15               Montreal   1305\n",
       "16                 Moscow   1387\n",
       "17                  Seoul   1546\n",
       "18              Barcelona   1705\n",
       "19                Atlanta   1859\n",
       "20                 Sydney   2015\n",
       "21                Beijing   2042"
      ]
     },
     "execution_count": 4,
     "metadata": {},
     "output_type": "execute_result"
    }
   ],
   "source": [
    "city"
   ]
  },
  {
   "cell_type": "code",
   "execution_count": 5,
   "id": "3b32346f",
   "metadata": {},
   "outputs": [
    {
     "name": "stdout",
     "output_type": "stream",
     "text": [
      "Total Number of Cities = 22\n"
     ]
    }
   ],
   "source": [
    "print(\"Total Number of Cities =\",Total_Cities)"
   ]
  },
  {
   "cell_type": "markdown",
   "id": "2e13279a",
   "metadata": {},
   "source": [
    "## 2. Which sport is having most number of Gold Medals so far? (Top 5)\n"
   ]
  },
  {
   "cell_type": "code",
   "execution_count": 6,
   "id": "3f0194df",
   "metadata": {},
   "outputs": [],
   "source": [
    "df_gold_medals = df[df['Medal'] == 'Gold']"
   ]
  },
  {
   "cell_type": "code",
   "execution_count": 7,
   "id": "165f94ad",
   "metadata": {},
   "outputs": [
    {
     "data": {
      "text/plain": [
       "0         Aquatics\n",
       "3         Aquatics\n",
       "6         Aquatics\n",
       "9         Aquatics\n",
       "13       Athletics\n",
       "           ...    \n",
       "31145    Wrestling\n",
       "31149    Wrestling\n",
       "31153    Wrestling\n",
       "31157    Wrestling\n",
       "31161    Wrestling\n",
       "Name: Sport, Length: 10486, dtype: object"
      ]
     },
     "execution_count": 7,
     "metadata": {},
     "output_type": "execute_result"
    }
   ],
   "source": [
    "df_gold_medals['Sport']"
   ]
  },
  {
   "cell_type": "code",
   "execution_count": 8,
   "id": "18921400",
   "metadata": {},
   "outputs": [],
   "source": [
    "gold_medals=[]\n",
    "for i in df_gold_medals['Sport'].unique():\n",
    "  gold_medals.append([i,len(df[df['Sport']  == i])])\n",
    "\n",
    "\n",
    "df_gold_medals = pd.DataFrame(gold_medals,columns = ['Sport','Total_Medals'])"
   ]
  },
  {
   "cell_type": "code",
   "execution_count": 9,
   "id": "d2656cdd",
   "metadata": {},
   "outputs": [],
   "source": [
    "df1=df_gold_medals.sort_values(by = 'Total_Medals', ascending=False)"
   ]
  },
  {
   "cell_type": "code",
   "execution_count": 10,
   "id": "bcc84d58",
   "metadata": {},
   "outputs": [
    {
     "data": {
      "text/html": [
       "<div>\n",
       "<style scoped>\n",
       "    .dataframe tbody tr th:only-of-type {\n",
       "        vertical-align: middle;\n",
       "    }\n",
       "\n",
       "    .dataframe tbody tr th {\n",
       "        vertical-align: top;\n",
       "    }\n",
       "\n",
       "    .dataframe thead th {\n",
       "        text-align: right;\n",
       "    }\n",
       "</style>\n",
       "<table border=\"1\" class=\"dataframe\">\n",
       "  <thead>\n",
       "    <tr style=\"text-align: right;\">\n",
       "      <th></th>\n",
       "      <th>Sport</th>\n",
       "      <th>Total_Medals</th>\n",
       "    </tr>\n",
       "  </thead>\n",
       "  <tbody>\n",
       "    <tr>\n",
       "      <th>0</th>\n",
       "      <td>Aquatics</td>\n",
       "      <td>4170</td>\n",
       "    </tr>\n",
       "    <tr>\n",
       "      <th>1</th>\n",
       "      <td>Athletics</td>\n",
       "      <td>3638</td>\n",
       "    </tr>\n",
       "    <tr>\n",
       "      <th>17</th>\n",
       "      <td>Rowing</td>\n",
       "      <td>2667</td>\n",
       "    </tr>\n",
       "    <tr>\n",
       "      <th>4</th>\n",
       "      <td>Gymnastics</td>\n",
       "      <td>2307</td>\n",
       "    </tr>\n",
       "    <tr>\n",
       "      <th>3</th>\n",
       "      <td>Fencing</td>\n",
       "      <td>1613</td>\n",
       "    </tr>\n",
       "    <tr>\n",
       "      <th>14</th>\n",
       "      <td>Football</td>\n",
       "      <td>1497</td>\n",
       "    </tr>\n",
       "    <tr>\n",
       "      <th>24</th>\n",
       "      <td>Hockey</td>\n",
       "      <td>1422</td>\n",
       "    </tr>\n",
       "    <tr>\n",
       "      <th>8</th>\n",
       "      <td>Wrestling</td>\n",
       "      <td>1212</td>\n",
       "    </tr>\n",
       "    <tr>\n",
       "      <th>5</th>\n",
       "      <td>Shooting</td>\n",
       "      <td>1150</td>\n",
       "    </tr>\n",
       "    <tr>\n",
       "      <th>19</th>\n",
       "      <td>Sailing</td>\n",
       "      <td>1109</td>\n",
       "    </tr>\n",
       "    <tr>\n",
       "      <th>2</th>\n",
       "      <td>Cycling</td>\n",
       "      <td>1105</td>\n",
       "    </tr>\n",
       "    <tr>\n",
       "      <th>31</th>\n",
       "      <td>Basketball</td>\n",
       "      <td>1012</td>\n",
       "    </tr>\n",
       "    <tr>\n",
       "      <th>32</th>\n",
       "      <td>Canoe / Kayak</td>\n",
       "      <td>1002</td>\n",
       "    </tr>\n",
       "    <tr>\n",
       "      <th>35</th>\n",
       "      <td>Volleyball</td>\n",
       "      <td>994</td>\n",
       "    </tr>\n",
       "    <tr>\n",
       "      <th>33</th>\n",
       "      <td>Handball</td>\n",
       "      <td>973</td>\n",
       "    </tr>\n",
       "    <tr>\n",
       "      <th>13</th>\n",
       "      <td>Equestrian</td>\n",
       "      <td>939</td>\n",
       "    </tr>\n",
       "    <tr>\n",
       "      <th>21</th>\n",
       "      <td>Boxing</td>\n",
       "      <td>894</td>\n",
       "    </tr>\n",
       "    <tr>\n",
       "      <th>7</th>\n",
       "      <td>Weightlifting</td>\n",
       "      <td>593</td>\n",
       "    </tr>\n",
       "    <tr>\n",
       "      <th>34</th>\n",
       "      <td>Judo</td>\n",
       "      <td>491</td>\n",
       "    </tr>\n",
       "    <tr>\n",
       "      <th>38</th>\n",
       "      <td>Baseball</td>\n",
       "      <td>335</td>\n",
       "    </tr>\n",
       "    <tr>\n",
       "      <th>9</th>\n",
       "      <td>Archery</td>\n",
       "      <td>329</td>\n",
       "    </tr>\n",
       "    <tr>\n",
       "      <th>6</th>\n",
       "      <td>Tennis</td>\n",
       "      <td>296</td>\n",
       "    </tr>\n",
       "    <tr>\n",
       "      <th>18</th>\n",
       "      <td>Rugby</td>\n",
       "      <td>192</td>\n",
       "    </tr>\n",
       "    <tr>\n",
       "      <th>39</th>\n",
       "      <td>Softball</td>\n",
       "      <td>180</td>\n",
       "    </tr>\n",
       "    <tr>\n",
       "      <th>29</th>\n",
       "      <td>Modern Pentathlon</td>\n",
       "      <td>180</td>\n",
       "    </tr>\n",
       "    <tr>\n",
       "      <th>37</th>\n",
       "      <td>Badminton</td>\n",
       "      <td>144</td>\n",
       "    </tr>\n",
       "    <tr>\n",
       "      <th>36</th>\n",
       "      <td>Table Tennis</td>\n",
       "      <td>144</td>\n",
       "    </tr>\n",
       "    <tr>\n",
       "      <th>40</th>\n",
       "      <td>Taekwondo</td>\n",
       "      <td>112</td>\n",
       "    </tr>\n",
       "    <tr>\n",
       "      <th>20</th>\n",
       "      <td>Tug of War</td>\n",
       "      <td>94</td>\n",
       "    </tr>\n",
       "    <tr>\n",
       "      <th>42</th>\n",
       "      <td>Canoe</td>\n",
       "      <td>81</td>\n",
       "    </tr>\n",
       "    <tr>\n",
       "      <th>16</th>\n",
       "      <td>Polo</td>\n",
       "      <td>66</td>\n",
       "    </tr>\n",
       "    <tr>\n",
       "      <th>22</th>\n",
       "      <td>Lacrosse</td>\n",
       "      <td>59</td>\n",
       "    </tr>\n",
       "    <tr>\n",
       "      <th>15</th>\n",
       "      <td>Golf</td>\n",
       "      <td>30</td>\n",
       "    </tr>\n",
       "    <tr>\n",
       "      <th>27</th>\n",
       "      <td>Skating</td>\n",
       "      <td>27</td>\n",
       "    </tr>\n",
       "    <tr>\n",
       "      <th>30</th>\n",
       "      <td>Ice Hockey</td>\n",
       "      <td>27</td>\n",
       "    </tr>\n",
       "    <tr>\n",
       "      <th>11</th>\n",
       "      <td>Cricket</td>\n",
       "      <td>24</td>\n",
       "    </tr>\n",
       "    <tr>\n",
       "      <th>41</th>\n",
       "      <td>Triathlon</td>\n",
       "      <td>24</td>\n",
       "    </tr>\n",
       "    <tr>\n",
       "      <th>26</th>\n",
       "      <td>Rackets</td>\n",
       "      <td>10</td>\n",
       "    </tr>\n",
       "    <tr>\n",
       "      <th>12</th>\n",
       "      <td>Croquet</td>\n",
       "      <td>8</td>\n",
       "    </tr>\n",
       "    <tr>\n",
       "      <th>28</th>\n",
       "      <td>Water Motorsports</td>\n",
       "      <td>5</td>\n",
       "    </tr>\n",
       "    <tr>\n",
       "      <th>10</th>\n",
       "      <td>Basque Pelota</td>\n",
       "      <td>4</td>\n",
       "    </tr>\n",
       "    <tr>\n",
       "      <th>25</th>\n",
       "      <td>Jeu de paume</td>\n",
       "      <td>3</td>\n",
       "    </tr>\n",
       "    <tr>\n",
       "      <th>23</th>\n",
       "      <td>Roque</td>\n",
       "      <td>3</td>\n",
       "    </tr>\n",
       "  </tbody>\n",
       "</table>\n",
       "</div>"
      ],
      "text/plain": [
       "                Sport  Total_Medals\n",
       "0            Aquatics          4170\n",
       "1           Athletics          3638\n",
       "17             Rowing          2667\n",
       "4          Gymnastics          2307\n",
       "3             Fencing          1613\n",
       "14           Football          1497\n",
       "24             Hockey          1422\n",
       "8           Wrestling          1212\n",
       "5            Shooting          1150\n",
       "19            Sailing          1109\n",
       "2             Cycling          1105\n",
       "31         Basketball          1012\n",
       "32      Canoe / Kayak          1002\n",
       "35         Volleyball           994\n",
       "33           Handball           973\n",
       "13         Equestrian           939\n",
       "21             Boxing           894\n",
       "7       Weightlifting           593\n",
       "34               Judo           491\n",
       "38           Baseball           335\n",
       "9             Archery           329\n",
       "6              Tennis           296\n",
       "18              Rugby           192\n",
       "39           Softball           180\n",
       "29  Modern Pentathlon           180\n",
       "37          Badminton           144\n",
       "36       Table Tennis           144\n",
       "40          Taekwondo           112\n",
       "20         Tug of War            94\n",
       "42              Canoe            81\n",
       "16               Polo            66\n",
       "22           Lacrosse            59\n",
       "15               Golf            30\n",
       "27            Skating            27\n",
       "30         Ice Hockey            27\n",
       "11            Cricket            24\n",
       "41          Triathlon            24\n",
       "26            Rackets            10\n",
       "12            Croquet             8\n",
       "28  Water Motorsports             5\n",
       "10      Basque Pelota             4\n",
       "25       Jeu de paume             3\n",
       "23              Roque             3"
      ]
     },
     "execution_count": 10,
     "metadata": {},
     "output_type": "execute_result"
    }
   ],
   "source": [
    "df1"
   ]
  },
  {
   "cell_type": "code",
   "execution_count": 11,
   "id": "190f85af",
   "metadata": {},
   "outputs": [
    {
     "data": {
      "text/html": [
       "<div>\n",
       "<style scoped>\n",
       "    .dataframe tbody tr th:only-of-type {\n",
       "        vertical-align: middle;\n",
       "    }\n",
       "\n",
       "    .dataframe tbody tr th {\n",
       "        vertical-align: top;\n",
       "    }\n",
       "\n",
       "    .dataframe thead th {\n",
       "        text-align: right;\n",
       "    }\n",
       "</style>\n",
       "<table border=\"1\" class=\"dataframe\">\n",
       "  <thead>\n",
       "    <tr style=\"text-align: right;\">\n",
       "      <th></th>\n",
       "      <th>Sport</th>\n",
       "      <th>Total_Medals</th>\n",
       "    </tr>\n",
       "  </thead>\n",
       "  <tbody>\n",
       "    <tr>\n",
       "      <th>0</th>\n",
       "      <td>Aquatics</td>\n",
       "      <td>4170</td>\n",
       "    </tr>\n",
       "    <tr>\n",
       "      <th>1</th>\n",
       "      <td>Athletics</td>\n",
       "      <td>3638</td>\n",
       "    </tr>\n",
       "    <tr>\n",
       "      <th>17</th>\n",
       "      <td>Rowing</td>\n",
       "      <td>2667</td>\n",
       "    </tr>\n",
       "    <tr>\n",
       "      <th>4</th>\n",
       "      <td>Gymnastics</td>\n",
       "      <td>2307</td>\n",
       "    </tr>\n",
       "    <tr>\n",
       "      <th>3</th>\n",
       "      <td>Fencing</td>\n",
       "      <td>1613</td>\n",
       "    </tr>\n",
       "  </tbody>\n",
       "</table>\n",
       "</div>"
      ],
      "text/plain": [
       "         Sport  Total_Medals\n",
       "0     Aquatics          4170\n",
       "1    Athletics          3638\n",
       "17      Rowing          2667\n",
       "4   Gymnastics          2307\n",
       "3      Fencing          1613"
      ]
     },
     "execution_count": 11,
     "metadata": {},
     "output_type": "execute_result"
    }
   ],
   "source": [
    "df1.head()"
   ]
  },
  {
   "cell_type": "code",
   "execution_count": 12,
   "id": "bca38272",
   "metadata": {},
   "outputs": [
    {
     "data": {
      "text/plain": [
       "<AxesSubplot:xlabel='Sport'>"
      ]
     },
     "execution_count": 12,
     "metadata": {},
     "output_type": "execute_result"
    },
    {
     "data": {
      "image/png": "[encoded data removed]",
      "text/plain": [
       "<Figure size 864x360 with 1 Axes>"
      ]
     },
     "metadata": {
      "needs_background": "light"
     },
     "output_type": "display_data"
    }
   ],
   "source": [
    "df1.head().plot(x='Sport' , y='Total_Medals', kind = 'bar', figsize = (12,5))"
   ]
  },
  {
   "cell_type": "markdown",
   "id": "702d2d70",
   "metadata": {},
   "source": [
    "# #3. Which sport is having most number of medals so far? (Top 5)"
   ]
  },
  {
   "cell_type": "code",
   "execution_count": 13,
   "id": "a70fa743",
   "metadata": {},
   "outputs": [],
   "source": [
    "df2=df"
   ]
  },
  {
   "cell_type": "code",
   "execution_count": 14,
   "id": "9855ba13",
   "metadata": {},
   "outputs": [],
   "source": [
    "del df2['Year']\n",
    "del df2['City']\n",
    "del df2['Discipline']\n",
    "del df2['Athlete']\n",
    "del df2['Country']\n",
    "del df2['Gender']\n",
    "del df2['Event']"
   ]
  },
  {
   "cell_type": "code",
   "execution_count": 15,
   "id": "cef26c40",
   "metadata": {},
   "outputs": [],
   "source": [
    "x = len(df2[df2['Medal'] == 'Gold'])\n",
    "y = len(df2[df2['Medal'] == 'Silver'])\n",
    "z = len(df2[df2['Medal'] == 'Bronze'])"
   ]
  },
  {
   "cell_type": "code",
   "execution_count": 16,
   "id": "8cae909f",
   "metadata": {},
   "outputs": [],
   "source": [
    "df = pd.read_csv(\"summer.csv\")"
   ]
  },
  {
   "cell_type": "code",
   "execution_count": 17,
   "id": "3256752f",
   "metadata": {},
   "outputs": [
    {
     "data": {
      "text/plain": [
       "True"
      ]
     },
     "execution_count": 17,
     "metadata": {},
     "output_type": "execute_result"
    }
   ],
   "source": [
    "x+y+z == len(df)"
   ]
  },
  {
   "cell_type": "code",
   "execution_count": 18,
   "id": "346a2729",
   "metadata": {},
   "outputs": [],
   "source": [
    "lst=df2.values.tolist()\n",
    "lst1=[]\n",
    "for i in lst:\n",
    "  lst1.append(i[0])\n",
    "lst2 = list(set(lst1))\n",
    "\n",
    "count=[]\n",
    "for i in lst2:\n",
    "  count.append([i,lst1.count(i)])\n",
    "\n",
    "count = pd.DataFrame(count,columns = ['Sport','Total_Medals'])"
   ]
  },
  {
   "cell_type": "code",
   "execution_count": 19,
   "id": "8202ff20",
   "metadata": {},
   "outputs": [],
   "source": [
    "d=count.sort_values(by = 'Total_Medals', ascending=False)"
   ]
  },
  {
   "cell_type": "code",
   "execution_count": 20,
   "id": "2471ed81",
   "metadata": {},
   "outputs": [
    {
     "data": {
      "text/plain": [
       "<AxesSubplot:xlabel='Sport'>"
      ]
     },
     "execution_count": 20,
     "metadata": {},
     "output_type": "execute_result"
    },
    {
     "data": {
      "image/png": "[encoded data removed]",
      "text/plain": [
       "<Figure size 864x360 with 1 Axes>"
      ]
     },
     "metadata": {
      "needs_background": "light"
     },
     "output_type": "display_data"
    }
   ],
   "source": [
    "d.head().plot(x='Sport',y='Total_Medals', kind = 'bar' , figsize = (12,5))"
   ]
  },
  {
   "cell_type": "markdown",
   "id": "43860ca4",
   "metadata": {},
   "source": [
    "# #4. Which player has won most number of medals? (Top 5)"
   ]
  },
  {
   "cell_type": "code",
   "execution_count": 21,
   "id": "cd5720d2",
   "metadata": {},
   "outputs": [],
   "source": [
    "lst = df['Athlete'].values.tolist()\n",
    "lst1=list(set(lst))\n",
    "\n",
    "cnt = []\n",
    "\n",
    "for i in lst1:\n",
    "  cnt.append([i,lst.count(i)])\n",
    "\n",
    "cnt = pd.DataFrame(cnt,columns = ['Athlete','Total_Medals'])"
   ]
  },
  {
   "cell_type": "code",
   "execution_count": 22,
   "id": "bd662338",
   "metadata": {},
   "outputs": [],
   "source": [
    "max_medals=cnt.sort_values(by = 'Total_Medals', ascending = False)"
   ]
  },
  {
   "cell_type": "code",
   "execution_count": 23,
   "id": "fd0d0a6c",
   "metadata": {},
   "outputs": [
    {
     "data": {
      "text/plain": [
       "<AxesSubplot:xlabel='Athlete'>"
      ]
     },
     "execution_count": 23,
     "metadata": {},
     "output_type": "execute_result"
    },
    {
     "data": {
      "image/png": "[encoded data removed]",
      "text/plain": [
       "<Figure size 864x360 with 1 Axes>"
      ]
     },
     "metadata": {
      "needs_background": "light"
     },
     "output_type": "display_data"
    }
   ],
   "source": [
    "max_medals.head().plot(x = 'Athlete', y = 'Total_Medals', kind = 'bar', figsize = (12,5))"
   ]
  },
  {
   "cell_type": "markdown",
   "id": "034dfa2e",
   "metadata": {},
   "source": [
    "# #5. Which player has won most number Gold Medals of medals? (Top 5)"
   ]
  },
  {
   "cell_type": "code",
   "execution_count": 24,
   "id": "c6266e04",
   "metadata": {},
   "outputs": [],
   "source": [
    "player_gold_medals = df[df['Medal'] == 'Gold']\n",
    "p_gold_medals=[]\n",
    "for i in player_gold_medals['Athlete'].unique():\n",
    "  p_gold_medals.append([i,len(df[df['Athlete']  == i])])\n",
    "\n",
    "\n",
    "p_gold_medals = pd.DataFrame(p_gold_medals,columns = ['Player','Total_Medals'])"
   ]
  },
  {
   "cell_type": "code",
   "execution_count": 25,
   "id": "4039543d",
   "metadata": {},
   "outputs": [],
   "source": [
    "p_gm=p_gold_medals.sort_values(by = 'Total_Medals', ascending=False)"
   ]
  },
  {
   "cell_type": "code",
   "execution_count": 26,
   "id": "04aa736c",
   "metadata": {},
   "outputs": [
    {
     "data": {
      "text/plain": [
       "<AxesSubplot:xlabel='Player'>"
      ]
     },
     "execution_count": 26,
     "metadata": {},
     "output_type": "execute_result"
    },
    {
     "data": {
      "image/png": "[encoded data removed]",
      "text/plain": [
       "<Figure size 864x360 with 1 Axes>"
      ]
     },
     "metadata": {
      "needs_background": "light"
     },
     "output_type": "display_data"
    }
   ],
   "source": [
    "p_gm.head().plot(x='Player' , y='Total_Medals', kind = 'bar', figsize = (12,5))"
   ]
  },
  {
   "cell_type": "markdown",
   "id": "532e0b28",
   "metadata": {},
   "source": [
    "# 6. In which year India won first Gold Medal in Summer Olympics?"
   ]
  },
  {
   "cell_type": "code",
   "execution_count": 27,
   "id": "b3daba6a",
   "metadata": {},
   "outputs": [],
   "source": [
    "india = df[df['Country'] == 'IND']\n",
    "india = india[india['Medal'] == 'Gold']\n",
    "india = india['Year']\n",
    "ind_gold_yrs = india.values.tolist()\n",
    "ind_gold_yrs = list(set(ind_gold_yrs))\n",
    "ind_gold_yrs.sort()"
   ]
  },
  {
   "cell_type": "code",
   "execution_count": 28,
   "id": "5cf5795a",
   "metadata": {},
   "outputs": [
    {
     "name": "stdout",
     "output_type": "stream",
     "text": [
      "India won the first gold medal in the year of 1928\n"
     ]
    }
   ],
   "source": [
    "print('India won the first gold medal in the year of',ind_gold_yrs[0])"
   ]
  },
  {
   "cell_type": "markdown",
   "id": "6e2ce592",
   "metadata": {},
   "source": [
    "# 7. Which event is most popular in terms on number of players? (Top 5) "
   ]
  },
  {
   "cell_type": "code",
   "execution_count": 29,
   "id": "48265db2",
   "metadata": {},
   "outputs": [],
   "source": [
    "lf = df\n",
    "del lf['Year']\n",
    "del lf['City']\n",
    "del lf['Discipline']\n",
    "del lf['Sport']\n",
    "del lf['Country']\n",
    "del lf['Gender']\n",
    "del lf['Medal']"
   ]
  },
  {
   "cell_type": "code",
   "execution_count": 30,
   "id": "f8b7e395",
   "metadata": {},
   "outputs": [],
   "source": [
    "l = list(df['Event'].unique())\n",
    "l1 = df.values.tolist()\n",
    "l = list(set(l))\n",
    "l2=[]\n",
    "for i in l1:\n",
    "  l2.append(i[1])\n",
    "\n",
    "pop_player_event=[]\n",
    "for i in l:\n",
    "  pop_player_event.append([i,l2.count(i)])\n",
    "\n",
    "pop_player_event = pd.DataFrame(pop_player_event,columns = ['Event','No of Players'])"
   ]
  },
  {
   "cell_type": "code",
   "execution_count": 31,
   "id": "2f36729b",
   "metadata": {},
   "outputs": [],
   "source": [
    "p_event=pop_player_event.sort_values(by = 'No of Players', ascending = False)"
   ]
  },
  {
   "cell_type": "code",
   "execution_count": 32,
   "id": "617ba404",
   "metadata": {},
   "outputs": [
    {
     "data": {
      "text/plain": [
       "<AxesSubplot:xlabel='Event'>"
      ]
     },
     "execution_count": 32,
     "metadata": {},
     "output_type": "execute_result"
    },
    {
     "data": {
      "image/png": "[encoded data removed]",
      "text/plain": [
       "<Figure size 864x360 with 1 Axes>"
      ]
     },
     "metadata": {
      "needs_background": "light"
     },
     "output_type": "display_data"
    }
   ],
   "source": [
    "p_event.head().plot(x = 'Event' , y='No of Players', kind ='bar' , figsize = (12,5))"
   ]
  },
  {
   "cell_type": "markdown",
   "id": "371c97b9",
   "metadata": {},
   "source": [
    "# 8. Which sport is having most female Gold Medalists? (Top 5)"
   ]
  },
  {
   "cell_type": "code",
   "execution_count": 33,
   "id": "52d78fb2",
   "metadata": {},
   "outputs": [],
   "source": [
    "df = pd.read_csv(\"summer.csv\")"
   ]
  },
  {
   "cell_type": "code",
   "execution_count": 34,
   "id": "142727b6",
   "metadata": {},
   "outputs": [],
   "source": [
    "df = df[df['Gender'] == 'Women']\n",
    "df = df[df['Medal'] == 'Gold']\n",
    "\n",
    "female_gm = df['Sport'].values.tolist()\n",
    "female_gm\n",
    "female_gm1 = list(set(female_gm))\n",
    "\n",
    "female_gm_cnt = []\n",
    "for i in female_gm1:\n",
    "  female_gm_cnt.append([i,female_gm.count(i)])\n",
    "\n",
    "female_gm_cnt = pd.DataFrame(female_gm_cnt, columns =['Sport', 'No of Female Gold Medalists'])"
   ]
  },
  {
   "cell_type": "code",
   "execution_count": 35,
   "id": "e465d2f5",
   "metadata": {},
   "outputs": [],
   "source": [
    "f_count=female_gm_cnt.sort_values(by = 'No of Female Gold Medalists', ascending = False)"
   ]
  },
  {
   "cell_type": "code",
   "execution_count": 36,
   "id": "82016551",
   "metadata": {},
   "outputs": [
    {
     "data": {
      "text/plain": [
       "<AxesSubplot:xlabel='Sport'>"
      ]
     },
     "execution_count": 36,
     "metadata": {},
     "output_type": "execute_result"
    },
    {
     "data": {
      "image/png": "[encoded data removed]",
      "text/plain": [
       "<Figure size 864x360 with 1 Axes>"
      ]
     },
     "metadata": {
      "needs_background": "light"
     },
     "output_type": "display_data"
    }
   ],
   "source": [
    "f_count.head().plot(x='Sport', y='No of Female Gold Medalists', kind = 'bar', figsize = (12,5))"
   ]
  },
  {
   "cell_type": "code",
   "execution_count": null,
   "id": "6a75aaed",
   "metadata": {},
   "outputs": [],
   "source": []
  },
  {
   "cell_type": "code",
   "execution_count": null,
   "id": "5da7d8fc",
   "metadata": {},
   "outputs": [],
   "source": []
  }
 ],
 "metadata": {
  "kernelspec": {
   "display_name": "Python 3",
   "language": "python",
   "name": "python3"
  },
  "language_info": {
   "codemirror_mode": {
    "name": "ipython",
    "version": 3
   },
   "file_extension": ".py",
   "mimetype": "text/x-python",
   "name": "python",
   "nbconvert_exporter": "python",
   "pygments_lexer": "ipython3",
   "version": "3.8.8"
  }
 },
 "nbformat": 4,
 "nbformat_minor": 5
}
